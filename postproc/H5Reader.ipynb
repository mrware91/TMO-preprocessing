{
 "cells": [
  {
   "cell_type": "code",
   "execution_count": null,
   "metadata": {},
   "outputs": [],
   "source": [
    "import numpy as np\n",
    "import matplotlib.pyplot as plt\n",
    "import h5py"
   ]
  },
  {
   "cell_type": "code",
   "execution_count": null,
   "metadata": {},
   "outputs": [],
   "source": [
    "exp='tmolv2918'\n",
    "run = 190\n",
    "user='mrware'\n",
    "subdirectory='2021-03-15'"
   ]
  },
  {
   "cell_type": "code",
   "execution_count": null,
   "metadata": {},
   "outputs": [],
   "source": [
    "# !ls /cds/data/psdm/tmo/tmolv2918/scratch/mrware/slurm/2021-03-15\n",
    "!ls /cds/data/psdm/tmo/tmolv2918/scratch/elio/v0"
   ]
  },
  {
   "cell_type": "code",
   "execution_count": null,
   "metadata": {},
   "outputs": [],
   "source": [
    "# filepath = '/cds/data/psdm/tmo/%s/scratch/%s/slurm/%s/run-%d.h5' % (exp, user, subdirectory, run)\n",
    "# filepath ='/cds/data/psdm/tmo/%s/scratch/%s/slurm/%s/temp-run-%d__part0.h5'% (exp, user, subdirectory, run)\n",
    "# filepath='/cds/data/psdm/tmo/%s/scratch/%s/slurm/%s/temp-run-%d_.h5'% (exp, user, subdirectory, run)\n",
    "filepath='/cds/data/psdm/tmo/tmolv2918/scratch/elio/v0/run190_v0.h5'\n",
    "\n",
    "data = h5py.File(filepath, 'r')"
   ]
  },
  {
   "cell_type": "code",
   "execution_count": null,
   "metadata": {},
   "outputs": [],
   "source": [
    "data.keys()"
   ]
  },
  {
   "cell_type": "markdown",
   "metadata": {},
   "source": [
    "# Verify uniqueness of data"
   ]
  },
  {
   "cell_type": "code",
   "execution_count": null,
   "metadata": {},
   "outputs": [],
   "source": [
    "evrs = np.copy(data['evrs']).astype(bool)\n",
    "print(evrs.shape)"
   ]
  },
  {
   "cell_type": "code",
   "execution_count": null,
   "metadata": {},
   "outputs": [],
   "source": [
    "# itofWaveform = data['itof-waveform'][evrs[:,68],:]\n",
    "itofWaveform = data['iToF_wf'][evrs[:,68],:]"
   ]
  },
  {
   "cell_type": "code",
   "execution_count": null,
   "metadata": {},
   "outputs": [],
   "source": [
    "print(itofWaveform.shape)\n",
    "print(np.unique(np.sum(itofWaveform,-1)).size)"
   ]
  },
  {
   "cell_type": "code",
   "execution_count": null,
   "metadata": {},
   "outputs": [],
   "source": [
    "itofWaveform[0,:]-itofWaveform[-1,:]"
   ]
  },
  {
   "cell_type": "markdown",
   "metadata": {},
   "source": [
    "# Verify timestamps look ok\n",
    "This was problem in lv29"
   ]
  },
  {
   "cell_type": "code",
   "execution_count": null,
   "metadata": {},
   "outputs": [],
   "source": [
    "timestamps = np.array(data['timestamp'])"
   ]
  },
  {
   "cell_type": "markdown",
   "metadata": {},
   "source": [
    "Verify unique timestamps"
   ]
  },
  {
   "cell_type": "code",
   "execution_count": null,
   "metadata": {},
   "outputs": [],
   "source": [
    "print(timestamps.shape, np.unique(timestamps).size)"
   ]
  },
  {
   "cell_type": "markdown",
   "metadata": {},
   "source": [
    "Verify frequency after time-sorting"
   ]
  },
  {
   "cell_type": "code",
   "execution_count": null,
   "metadata": {},
   "outputs": [],
   "source": [
    "print('Expected run duration is ... %f minutes' % (timestamps.size*8*1e-3/60.) )"
   ]
  },
  {
   "cell_type": "code",
   "execution_count": null,
   "metadata": {},
   "outputs": [],
   "source": [
    "sortedTimestamps = np.sort(timestamps)\n",
    "timeRange = sortedTimestamps[-1]-sortedTimestamps[0]"
   ]
  },
  {
   "cell_type": "code",
   "execution_count": null,
   "metadata": {},
   "outputs": [],
   "source": [
    "print('Timestamps indicate a run duration of ... %f minutes' % (timeRange*1e-9/60.))"
   ]
  },
  {
   "cell_type": "markdown",
   "metadata": {},
   "source": [
    "# Epics analysis example"
   ]
  },
  {
   "cell_type": "code",
   "execution_count": null,
   "metadata": {},
   "outputs": [],
   "source": [
    "data['epics'].keys()"
   ]
  },
  {
   "cell_type": "code",
   "execution_count": null,
   "metadata": {},
   "outputs": [],
   "source": [
    "vitaraDelay = np.array(data['epics']['las_fs14_target_time_dial'])\n",
    "plt.plot(vitaraDelay[:500])\n",
    "plt.xlabel('time idx')\n",
    "plt.ylabel('vitara delay (ns)')"
   ]
  },
  {
   "cell_type": "markdown",
   "metadata": {},
   "source": [
    "# TOF analysis example"
   ]
  },
  {
   "cell_type": "code",
   "execution_count": null,
   "metadata": {},
   "outputs": [],
   "source": [
    "loadMax = 1000\n",
    "evrs = np.array( data['evrs'][:loadMax,] ).astype(int)\n",
    "itofWaveform = np.array( data['itof-waveform'][:loadMax,] )\n",
    "print(evrs.shape, itofWaveform.shape)\n",
    "t = np.array( data['itof-time'][:loadMax,] )[0,:]\n",
    "\n",
    "gas_on = evrs[:,70]==1\n",
    "gas_off = np.logical_not(gas_on)\n",
    "\n",
    "plt.plot(t, itofWaveform[gas_on,:].mean(0), 'k', label='Jet on');\n",
    "plt.plot(t, itofWaveform[gas_off,:].mean(0), 'r', alpha=0.5, label='Jet off');\n",
    "plt.title(\"ion TOF traces\");\n",
    "plt.legend()\n",
    "plt.xlabel(\"ToF / us\")"
   ]
  }
 ],
 "metadata": {
  "kernelspec": {
   "display_name": "LCLS-II py3",
   "language": "python",
   "name": "ana2-current"
  },
  "language_info": {
   "codemirror_mode": {
    "name": "ipython",
    "version": 3
   },
   "file_extension": ".py",
   "mimetype": "text/x-python",
   "name": "python",
   "nbconvert_exporter": "python",
   "pygments_lexer": "ipython3",
   "version": "3.7.10"
  }
 },
 "nbformat": 4,
 "nbformat_minor": 2
}
